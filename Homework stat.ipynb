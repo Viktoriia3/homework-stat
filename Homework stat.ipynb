{
 "cells": [
  {
   "cell_type": "markdown",
   "metadata": {
    "id": "pDrecLU-4QjS"
   },
   "source": [
    "# Практика"
   ]
  },
  {
   "cell_type": "markdown",
   "metadata": {
    "id": "gUvTNDlMaV-a"
   },
   "source": [
    "## Определение вероятности. События\n",
    "\n",
    "Требуется сгенерировать необходимые выборки и произвести по ним расчеты"
   ]
  },
  {
   "cell_type": "markdown",
   "metadata": {
    "id": "5V70InEBTgup"
   },
   "source": [
    "### Задача 1\n",
    "Брошено две монеты. Найти вероятность того, что монеты выпали разными сторонами"
   ]
  },
  {
   "cell_type": "code",
   "execution_count": 11,
   "metadata": {},
   "outputs": [],
   "source": [
    "import pandas as pd\n",
    "import numpy as np\n",
    "import matplotlib.pyplot as plt\n",
    "import scipy.stats as sts\n",
    "import random"
   ]
  },
  {
   "cell_type": "code",
   "execution_count": 8,
   "metadata": {},
   "outputs": [
    {
     "data": {
      "text/plain": [
       "0.499625"
      ]
     },
     "execution_count": 8,
     "metadata": {},
     "output_type": "execute_result"
    }
   ],
   "source": [
    "n = 1000000\n",
    "df = pd.DataFrame(columns = [\"coin1\", \"coin2\"])\n",
    "coin1 = sts.bernoulli(.5) # Бернули для монеты 1\n",
    "coin2 = sts.bernoulli(.5) # Бернули для монеты 2\n",
    "df[\"coin1\"] = coin1.rvs(n) \n",
    "df[\"coin2\"] = coin2.rvs(n)\n",
    "p = len(df[df[\"coin1\"]!=df[\"coin2\"]])/df.shape[0]\n",
    "p #вероятность того, что монеты выпали разными сторонами "
   ]
  },
  {
   "cell_type": "markdown",
   "metadata": {
    "id": "t0XOMos2Tl0e"
   },
   "source": [
    "### Задача 2\n",
    "Брошено три монеты. Описать множество всех элементарных событий. Найти вероятности следующих событий:\n",
    "\n",
    "\n",
    "1.   A = {не выпало ни одного герба}\n",
    "2.   B = {выпало четное число гербов}\n",
    "3.   C = {на третьей монете выпал герб}\n"
   ]
  },
  {
   "cell_type": "code",
   "execution_count": 9,
   "metadata": {
    "id": "o7NjAE9uUo-L"
   },
   "outputs": [
    {
     "name": "stdout",
     "output_type": "stream",
     "text": [
      "       m1  m2  m3\n",
      "0       0   1   1\n",
      "1       1   1   1\n",
      "2       0   0   1\n",
      "3       1   0   1\n",
      "4       1   1   0\n",
      "...    ..  ..  ..\n",
      "99995   0   1   0\n",
      "99996   0   1   0\n",
      "99997   0   0   0\n",
      "99998   1   0   1\n",
      "99999   1   1   1\n",
      "\n",
      "[100000 rows x 3 columns]\n",
      "не выпало ни одного герба 0.12632\n",
      "выпало четное число гербов 0.37485\n",
      "на третьей монете выпал герб 0.49861\n"
     ]
    }
   ],
   "source": [
    "n = 100000\n",
    "bernoulli_rv1 = sts.bernoulli(0.5)\n",
    "bernoulli_rv2 = sts.bernoulli(0.5)\n",
    "bernoulli_rv3 = sts.bernoulli(0.5)\n",
    "b1 = bernoulli_rv1.rvs(n)\n",
    "b2 = bernoulli_rv2.rvs(n)\n",
    "b3 = bernoulli_rv3.rvs(n)\n",
    "\n",
    "df = pd.DataFrame (zip(b1, b2, b3), columns = [\"m1\",\"m2\",\"m3\" ])\n",
    "print (df)\n",
    "print ('не выпало ни одного герба', df [(df.m1 != 0) & (df.m2 != 0) & (df.m3 != 0)].shape[0]/n)\n",
    "print ('выпало четное число гербов', df [df.m1 + df.m2 + df.m3 == 1].shape[0]/n)\n",
    "print ('на третьей монете выпал герб', df [(df.m3 == 0)].shape[0]/n)"
   ]
  },
  {
   "cell_type": "markdown",
   "metadata": {},
   "source": [
    "Вероятность событий:\n",
    "A = 0.12632\n",
    "B = 0.37485\n",
    "C = 0.49861"
   ]
  },
  {
   "cell_type": "markdown",
   "metadata": {},
   "source": [
    "Предлагается также решить задачи: \n",
    "\n",
    "### Задача 3\n",
    "Из двух претендентов E и L на ответственную должность три члена комиссии должны отобрать одного. Каждый член комиссии должен указать либо одного достойного, либо забраковать обоих. Претендент считается выбранным, если он был признана достойным хотя бы двумя членами комиссии.\n",
    "Найти вероятность событий:\n",
    "\n",
    "A = {рекомендован L}, B = {рекомендован E}\n"
   ]
  },
  {
   "cell_type": "code",
   "execution_count": 12,
   "metadata": {},
   "outputs": [
    {
     "name": "stdout",
     "output_type": "stream",
     "text": [
      "1\n",
      "1\n",
      "   E  L\n",
      "0  0  1\n",
      "1  0  0\n",
      "2  1  0\n",
      "рекомендован L 0.6666666666666666\n",
      "рекомендован E 0.6666666666666666\n"
     ]
    }
   ],
   "source": [
    "#какие варианты возможны:\n",
    "a = [[0,1], [1,0], [0,0], [0,1], [1,0], [0,0]]\n",
    "c= random.choices(a, k=3)\n",
    "\n",
    "#есть три вероятности событий: рекомендован L,рекомендован E, нет рекомендации \n",
    "n = 3\n",
    "df = pd.DataFrame(c, columns = [\"E\",\"L\" ])\n",
    "L = np.count_nonzero(df[\"L\"])\n",
    "E = np.count_nonzero(df[\"E\"])\n",
    "print (L)\n",
    "print (E)\n",
    "\n",
    "print (df)\n",
    "print ('рекомендован L', df [(df.L >=2)].shape[1]/n)\n",
    "print ('рекомендован E', df [(df.E >=2)].shape[1]/n)"
   ]
  },
  {
   "cell_type": "markdown",
   "metadata": {
    "id": "peM38mVfYa5B"
   },
   "source": [
    "### Задача 4\n",
    "Брошено две игральных кости. Описать множество элементарных событий. Найти вероятности событий:\n",
    "\n",
    "A = {вышло две \"шестерки\"}\n",
    "\n",
    "B = {сумма выпавших очков не меньше 11}\n",
    "\n",
    "C = {не выпала ни одна \"шестерка\"}"
   ]
  },
  {
   "cell_type": "code",
   "execution_count": 13,
   "metadata": {},
   "outputs": [
    {
     "name": "stdout",
     "output_type": "stream",
     "text": [
      "       cub1  cub2\n",
      "0         1     2\n",
      "1         5     1\n",
      "2         5     5\n",
      "3         6     1\n",
      "4         5     3\n",
      "...     ...   ...\n",
      "99995     5     4\n",
      "99996     1     1\n",
      "99997     4     2\n",
      "99998     4     3\n",
      "99999     6     2\n",
      "\n",
      "[100000 rows x 2 columns]\n",
      "вышло две \"шестерки\" 0.02787\n",
      "сумма выпавших очков не меньше 11 0.08364\n",
      "не выпала ни одна \"шестерка\" 0.69402\n"
     ]
    }
   ],
   "source": [
    "n=100000\n",
    "values1 = []\n",
    "values2 = []\n",
    "\n",
    "for x in range(n):\n",
    "    values1.append (np.random.randint(1, 7))\n",
    "    values2.append (np.random.randint(1, 7))\n",
    "         \n",
    "df = pd.DataFrame(zip(values1, values2 ),columns = [\"cub1\",\"cub2\"] ) \n",
    "\n",
    "print (df)\n",
    "\n",
    "print ('вышло две \"шестерки\"', df [((df.cub1 ==6)&(df.cub2 ==6))].shape[0]/n)\n",
    "print ('сумма выпавших очков не меньше 11', df [((df.cub1 + df.cub2)>=11)].shape[0]/n)\n",
    "print ('не выпала ни одна \"шестерка\"', df [(df.cub1 != 6)&(df.cub2 != 6) ].shape[0]/n)"
   ]
  },
  {
   "cell_type": "markdown",
   "metadata": {
    "id": "f-Bi0p8haclB"
   },
   "source": [
    "## Вероятность суммы событий"
   ]
  },
  {
   "cell_type": "markdown",
   "metadata": {
    "id": "g7A7QlvGTnwZ"
   },
   "source": [
    "### Задача 5\n",
    "Брошены две игральные кости. Найти вероятность события D = {выпала хотя бы одна шестёрка}\n"
   ]
  },
  {
   "cell_type": "code",
   "execution_count": 14,
   "metadata": {
    "id": "vjtTJN-kUp9D"
   },
   "outputs": [
    {
     "name": "stdout",
     "output_type": "stream",
     "text": [
      "      cub1  cub2\n",
      "0        1     4\n",
      "1        1     6\n",
      "2        5     5\n",
      "3        4     5\n",
      "4        5     6\n",
      "...    ...   ...\n",
      "9995     4     3\n",
      "9996     1     5\n",
      "9997     6     6\n",
      "9998     3     2\n",
      "9999     3     1\n",
      "\n",
      "[10000 rows x 2 columns]\n",
      "выпала хотя бы одна шестёрка 0.3032\n"
     ]
    }
   ],
   "source": [
    "n=10000\n",
    "values1 = []\n",
    "values2 = []\n",
    "\n",
    "for x in range(n):\n",
    "    values1.append (np.random.randint(1, 7))\n",
    "    values2.append (np.random.randint(1, 7))\n",
    "         \n",
    "df = pd.DataFrame(zip(values1, values2 ),columns = [\"cub1\",\"cub2\"] ) \n",
    "\n",
    "print (df)\n",
    "\n",
    "print ('выпала хотя бы одна шестёрка',\\\n",
    "       df [((df.cub1 ==6)&(df.cub2 !=6))|((df.cub1 !=6)&(df.cub2 ==6))|((df.cub1 ==6)&(df.cub2 ==6)) ].shape[0]/n)"
   ]
  },
  {
   "cell_type": "markdown",
   "metadata": {
    "id": "R1bYSzQQbC6I"
   },
   "source": [
    "Предлагается также решить задачи: \n",
    "\n",
    "### Задача 6\n",
    "В телефонном номере три последние цифры стерлись. Считая, что все возможные значения стершихся цифр равновероятны, найти вероятность событий:\n",
    "\n",
    "A = {Стерлись различные цифры},\n",
    "\n",
    "B = {Стерлись одинаковые цифры},\n",
    "\n",
    "C = {Среди стершихся цифр хотя бы две совпадают},\n",
    "\n",
    "D = {Среди стершихся цифр хотя бы две различны}\n"
   ]
  },
  {
   "cell_type": "code",
   "execution_count": 15,
   "metadata": {},
   "outputs": [
    {
     "name": "stdout",
     "output_type": "stream",
     "text": [
      "       num1  num2  num3\n",
      "0         1     8     1\n",
      "1         2     7     6\n",
      "2         1     8     9\n",
      "3         8     4     2\n",
      "4         9     5     6\n",
      "...     ...   ...   ...\n",
      "99995     0     8     2\n",
      "99996     5     7     9\n",
      "99997     9     5     8\n",
      "99998     8     4     4\n",
      "99999     1     5     9\n",
      "\n",
      "[100000 rows x 3 columns]\n",
      "Стерлись различные цифры 0.7219\n",
      "Стерлись одинаковые цифры 0.01001\n",
      "Среди стершихся цифр хотя бы две совпадают 0.2781\n",
      "Среди стершихся цифр хотя бы две различны 0.98999\n"
     ]
    }
   ],
   "source": [
    "n=100000\n",
    "num1 = []\n",
    "num2 = []\n",
    "num3 = []\n",
    "\n",
    "for x in range(n):\n",
    "    num1.append (np.random.randint(0, 10))\n",
    "    num2.append (np.random.randint(0, 10))\n",
    "    num3.append (np.random.randint(0, 10))    \n",
    "df = pd.DataFrame(zip(num1, num2, num3 ), columns = [\"num1\",\"num2\", \"num3\"] ) \n",
    "\n",
    "print (df)\n",
    "\n",
    "print ('Стерлись различные цифры',\\\n",
    "       df [(df.num1 != df.num2)& (df.num1 != df.num3)& (df.num2 != df.num3)].shape[0]/n)\n",
    "print ('Стерлись одинаковые цифры',\\\n",
    "       df [(df.num1 == df.num2)& (df.num1 == df.num3)& (df.num2 == df.num3)].shape[0]/n )\n",
    "print ('Среди стершихся цифр хотя бы две совпадают',\\\n",
    "       df [(df.num1 == df.num2)|(df.num1 == df.num3)|(df.num2 == df.num3)].shape[0]/n )\n",
    "print ('Среди стершихся цифр хотя бы две различны',\\\n",
    "       df [(df.num1 != df.num2)| (df.num1 != df.num3)|(df.num2 != df.num3)].shape[0]/n )"
   ]
  },
  {
   "cell_type": "markdown",
   "metadata": {
    "id": "RnugkR8BalK_"
   },
   "source": [
    "## Случайные величины"
   ]
  },
  {
   "cell_type": "markdown",
   "metadata": {
    "id": "yLoZDZ17UVsp"
   },
   "source": [
    "### Задача 7\n",
    "В лотерее имеется 10 билетов, из которых один выигрышный. Размер выигрыша 10 ден. ед.; стоимость билета 1 ден ед. Найти закон распределения случайной величины X, равной чистому выигрышу участника лотереи, который вытаскивает билет первым."
   ]
  },
  {
   "cell_type": "code",
   "execution_count": 16,
   "metadata": {
    "id": "oNk432sKUqzT"
   },
   "outputs": [
    {
     "name": "stdout",
     "output_type": "stream",
     "text": [
      "   0\n",
      "0  0\n",
      "1  0\n",
      "2  0\n",
      "3  1\n",
      "4  0\n",
      "5  0\n",
      "6  0\n",
      "7  0\n",
      "8  0\n",
      "9  0\n",
      "вероятность выигрыша 10 ден.ед:  0.1\n",
      "вероятность проигрыша  0.9\n"
     ]
    }
   ],
   "source": [
    "import random\n",
    "lst = [0,0,0,0,0,0,0,0,0,1]\n",
    "n = len(lst)\n",
    "random.shuffle(lst, random.random)\n",
    "df = pd.DataFrame(lst)\n",
    "print (df)\n",
    "print ('вероятность выигрыша 10 ден.ед: ', df [df[0] ==1 ].shape[0]/n)\n",
    "print ('вероятность проигрыша ', df [df[0] ==0 ].shape[0]/n)"
   ]
  },
  {
   "cell_type": "markdown",
   "metadata": {
    "id": "U-NK9liSbpvb"
   },
   "source": [
    "Предлагается также решить задачу: \n",
    "\n",
    "### Задача 8\n",
    "Брошены две игральные кости. Найти закон распределения случайной величины $X$, равной сумме выпавших очков. Найти вероятности событий ${X <= 4}$, ${X > 4}$"
   ]
  },
  {
   "cell_type": "code",
   "execution_count": 17,
   "metadata": {},
   "outputs": [
    {
     "name": "stdout",
     "output_type": "stream",
     "text": [
      "       0\n",
      "0     11\n",
      "1      8\n",
      "2      7\n",
      "3      6\n",
      "4      3\n",
      "...   ..\n",
      "9995   7\n",
      "9996   8\n",
      "9997   8\n",
      "9998   3\n",
      "9999   3\n",
      "\n",
      "[10000 rows x 1 columns]\n",
      "вероятности событий  𝑋<=4  0.1676\n",
      "вероятности событий  𝑋>4  0.8324\n"
     ]
    }
   ],
   "source": [
    "n=10000\n",
    "values = []\n",
    "for x in range(n):\n",
    "    values.append(np.random.randint(1, 7) + np.random.randint(1, 7))\n",
    "df = pd.DataFrame(values) \n",
    "\n",
    "print(df)\n",
    "print ('вероятности событий  𝑋<=4 ', df [df[0] <= 4 ].shape[0]/n)\n",
    "print ('вероятности событий  𝑋>4 ', df [df[0] > 4 ].shape[0]/n)"
   ]
  },
  {
   "cell_type": "markdown",
   "metadata": {
    "id": "shgW4D83awjK"
   },
   "source": [
    "## Условные вероятности"
   ]
  },
  {
   "cell_type": "markdown",
   "metadata": {
    "id": "Fbu1RFZwWZrk"
   },
   "source": [
    "### Задача 9\n",
    "Из колоды (36 карт) вынимают последовательно без возвращения две карты. Найти вероятность того, что первой картой была шестерка, а второй — семерка. Найти условную вероятность того же события при условии, что обе карты бубновой масти.\n"
   ]
  },
  {
   "cell_type": "code",
   "execution_count": 20,
   "metadata": {
    "id": "037o56awW9-E"
   },
   "outputs": [
    {
     "name": "stdout",
     "output_type": "stream",
     "text": [
      "0.05714285714285714\n"
     ]
    }
   ],
   "source": [
    "#Всего есть 9 карт бубновой масти, поэтому вероятность сначала 9/36, затем 8/35, нужно умножить их, чтобы расчитать \n",
    "#вероятность вытянуть их друг за другом\n",
    "\n",
    "n1 = 36\n",
    "k1= 9\n",
    "P1 = k1 / n1\n",
    "\n",
    "n2 = 35\n",
    "k2 = 8\n",
    "P2 = k2 / n2\n",
    "\n",
    "p = P1 * P2\n",
    "print(p)"
   ]
  },
  {
   "cell_type": "markdown",
   "metadata": {
    "id": "hNVxtaz5c57b"
   },
   "source": [
    "Предлагается также решить задачу: \n",
    "\n",
    "### Задача 10\n",
    "Из урны, содержащей два белых и три черных шара, последовательно извлекают два шара; вынутые шары не возвращаются. Если первый шар оказался черным, то перед вторым извлечением в урну добавляют белый шар. В противном случае состав оставшихся шаров не меняют. Найти вероятности событий:\n",
    "\n",
    "$A$ = {извлечены два белых шара},\n",
    "\n",
    "$B$ = {извлечены два черных шара}\n",
    "\n",
    "Указание. Пусть событие $C_1$ = {первый шар белый}, событие $C_2$ = {второй шар белый}. Тогда $A = C_1C_2$, $B = \\overline C_1 \\overline C_2$ "
   ]
  },
  {
   "cell_type": "code",
   "execution_count": 21,
   "metadata": {
    "id": "WSLnhk2sdBt_"
   },
   "outputs": [
    {
     "name": "stdout",
     "output_type": "stream",
     "text": [
      "0.1\n"
     ]
    }
   ],
   "source": [
    "#p1  = {извлечены два белых шара},\n",
    "c1 = 2 / 5\n",
    "c2 = 1 / 4\n",
    "p1=c1*c2\n",
    "print(p1)"
   ]
  },
  {
   "cell_type": "code",
   "execution_count": 22,
   "metadata": {},
   "outputs": [
    {
     "name": "stdout",
     "output_type": "stream",
     "text": [
      "0.24\n"
     ]
    }
   ],
   "source": [
    "#p2  = {извлечены два черных шара}\n",
    "c1 = 3 /5\n",
    "c2= 2 /5\n",
    "p2 = c1*c2\n",
    "print(p2)"
   ]
  }
 ],
 "metadata": {
  "colab": {
   "collapsed_sections": [],
   "name": "Практика к занятию 11.ipynb",
   "provenance": []
  },
  "kernelspec": {
   "display_name": "Python 3",
   "language": "python",
   "name": "python3"
  },
  "language_info": {
   "codemirror_mode": {
    "name": "ipython",
    "version": 3
   },
   "file_extension": ".py",
   "mimetype": "text/x-python",
   "name": "python",
   "nbconvert_exporter": "python",
   "pygments_lexer": "ipython3",
   "version": "3.8.5"
  }
 },
 "nbformat": 4,
 "nbformat_minor": 1
}
